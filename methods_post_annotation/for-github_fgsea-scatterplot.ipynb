{
 "cells": [
  {
   "cell_type": "markdown",
   "metadata": {},
   "source": [
    "# Recreate Figure 2H"
   ]
  },
  {
   "cell_type": "code",
   "execution_count": null,
   "metadata": {},
   "outputs": [],
   "source": [
    "library(fgsea)\n",
    "library(extrafont)\n",
    "library(cowplot)\n",
    "library(ggpubr)\n",
    "library(ggrepel)\n",
    "library(dplyr)\n",
    "library(gplots)\n",
    "library(RColorBrewer)\n",
    "library(tibble)"
   ]
  },
  {
   "cell_type": "code",
   "execution_count": null,
   "metadata": {},
   "outputs": [],
   "source": [
    "## Import differentially expressed gene lists\n",
    "mono_bvc_f <- read.table(\"Aug20_BLZ_data/Mono-CSF1Ri_vs_Mono-Vehicle_fdr05_Aug20.csv\", sep=\"\\t\", header=F)\n",
    "mono_bvc_f <- deframe(mono_bvc_f)\n",
    "mac_bvc_f <- read.table(\"Aug20_BLZ_data/Mac-CSF1Ri_vs_Mac-Vehicle_fdr05_Aug20.csv\", sep=\"\\t\", header=F)\n",
    "mac_bvc_f <- deframe(mac_bvc_f)"
   ]
  },
  {
   "cell_type": "code",
   "execution_count": null,
   "metadata": {},
   "outputs": [],
   "source": [
    "## Import all GO BP pathways and genes\n",
    "gofile <- scan(\"GOids_genes.txt\", what=\"\", sep=\"\\n\")   \n",
    "pathways_all <- strsplit(gofile, \"\\t\")\n",
    "\n",
    "# Extract the first vector element and set it as the list element name\n",
    "names(pathways_all) <- sapply(pathways_all, `[[`, 1)\n",
    "# Remove the first vector element from each list element\n",
    "pathways_all <- lapply(pathways_all, `[`, -1)"
   ]
  },
  {
   "cell_type": "code",
   "execution_count": null,
   "metadata": {},
   "outputs": [],
   "source": [
    "# fgsea - only retain pathways where 15+ genes expressed and no more than 300\n",
    "set.seed(1234)\n",
    "mono_res <- fgsea(pathways=pathways_all, stats=mono_bvc_f, nperm=10000, minSize=15, maxSize=300)\n",
    "mac_res <- fgsea(pathways=pathways_all, stats=mac_bvc_f, nperm=10000, minSize=15, maxSize=300)"
   ]
  },
  {
   "cell_type": "code",
   "execution_count": null,
   "metadata": {},
   "outputs": [],
   "source": [
    "# write all results to file\n",
    "mono_f <- mono_res\n",
    "mono_f$leadingEdge <- vapply(mono_f$leadingEdge, paste, collapse = \", \", character(1L))\n",
    "mac_f <- mac_res\n",
    "mac_f$leadingEdge <- vapply(mac_f$leadingEdge, paste, collapse = \", \", character(1L))\n",
    "\n",
    "write.table(mono_f, file=\"Aug20_BLZ_data/monocyte_fgsea_results_full_Aug20.txt\",\n",
    "            sep=\"\\t\", col.names=T, row.names=F, quote=F)\n",
    "write.table(mac_f, file=\"Aug20_BLZ_data/macrophage_fgsea_results_full_Aug20.txt\",\n",
    "            sep=\"\\t\", col.names=T, row.names=F, quote=F)"
   ]
  },
  {
   "cell_type": "code",
   "execution_count": null,
   "metadata": {},
   "outputs": [],
   "source": [
    "# label pathways a/w immune activation\n",
    "mono_plot <- mono_res[ES>0][order(-NES)][padj<0.05,]\n",
    "mono_plot$fn <- \"no\"\n",
    "\n",
    "mono_ias <- read.delim(\"Aug20_BLZ_data/mono_imm-act-list_Aug20.txt\", header=F)$V1\n",
    "mono_plot$fn[(mono_plot$pathway %in% mono_ias)] <- \"immune activation\""
   ]
  },
  {
   "cell_type": "code",
   "execution_count": null,
   "metadata": {},
   "outputs": [],
   "source": [
    "mac_plot <- mac_res[ES>0][order(-NES)][padj<0.05,]\n",
    "mac_plot$fn <- \"no\"\n",
    "\n",
    "mac_ias <- read.delim(\"Aug20_BLZ_data/mac_imm-act-list_Aug20.txt\", header=F)$V1\n",
    "mac_plot$fn[(mac_plot$pathway %in% mac_ias)] <- \"immune activation\""
   ]
  },
  {
   "cell_type": "code",
   "execution_count": null,
   "metadata": {},
   "outputs": [],
   "source": []
  }
 ],
 "metadata": {
  "kernelspec": {
   "display_name": "R",
   "language": "R",
   "name": "ir"
  },
  "language_info": {
   "codemirror_mode": "r",
   "file_extension": ".r",
   "mimetype": "text/x-r-source",
   "name": "R",
   "pygments_lexer": "r",
   "version": "3.6.3"
  }
 },
 "nbformat": 4,
 "nbformat_minor": 2
}
